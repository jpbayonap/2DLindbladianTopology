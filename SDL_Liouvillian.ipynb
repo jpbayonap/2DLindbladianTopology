{
 "cells": [
  {
   "cell_type": "code",
   "execution_count": 83,
   "id": "6aeb3975",
   "metadata": {},
   "outputs": [],
   "source": [
    "from sympy import *\n",
    "from sympy import re, im, I, E, symbols\n",
    "from sympy import simplify\n",
    "from sympy.physics.quantum.dagger import Dagger\n",
    "\n",
    "x,a,b,c,d,f,g,t = symbols ('x, a, b, c, d, f, g,t',real=True)"
   ]
  },
  {
   "cell_type": "code",
   "execution_count": 96,
   "id": "cce79db5",
   "metadata": {},
   "outputs": [
    {
     "data": {
      "text/latex": [
       "$\\displaystyle \\left[\\begin{matrix}a - \\frac{i \\left(c + d\\right)}{2} & 0 & - b & b\\\\0 & - a - \\frac{i \\left(c + d\\right)}{2} & b & - b\\\\- b & b & - i c & i d\\\\b & - b & i c & - i d\\end{matrix}\\right]$"
      ],
      "text/plain": [
       "Matrix([\n",
       "[a - I*(c + d)/2,                0,   -b,    b],\n",
       "[              0, -a - I*(c + d)/2,    b,   -b],\n",
       "[             -b,                b, -I*c,  I*d],\n",
       "[              b,               -b,  I*c, -I*d]])"
      ]
     },
     "execution_count": 96,
     "metadata": {},
     "output_type": "execute_result"
    }
   ],
   "source": [
    "M1= Matrix([[a-I*(c)/2, 0, -b, b], \\\n",
    "           [0, -a-I*(c)/2, b, -b],\\\n",
    "           [-b, b, -I*(c), 0],\\\n",
    "           [b, -b, I*(c), 0 ]]) \n",
    "M2= Matrix([[a-I*(c+d)/2, 0, -b, b], \\\n",
    "           [0, -a-I*(c+d)/2, b, -b],\\\n",
    "           [-b, b, -I*c, I*d],\\\n",
    "           [b, -b, I*c, -I*d ]]) \n",
    "# M2 = Dagger(M2)\n",
    "M2"
   ]
  },
  {
   "cell_type": "code",
   "execution_count": 85,
   "id": "9583a03c",
   "metadata": {},
   "outputs": [],
   "source": [
    "lam = symbols('lambda')\n",
    "cp1 = det(M1 - lam * eye(4))\n",
    "cp_P1= Poly(cp1,lam)\n",
    "eigval1 = solve(cp_P1,lam)\n",
    "EIG1 = M1.eigenvects()\n",
    "\n",
    "# P,D = M.diagonalize()\n",
    "# Pm=P**-1\n",
    "# P*exp(D)*Pm"
   ]
  },
  {
   "cell_type": "code",
   "execution_count": 97,
   "id": "b6f006c2",
   "metadata": {},
   "outputs": [],
   "source": [
    "lam = symbols('lambda')\n",
    "cp2 = det(M2 - lam * eye(4))\n",
    "cp_P2= Poly(cp2,lam)\n",
    "eigval2 = solve(cp_P2,lam)\n",
    "EIG2 = M2.eigenvects()"
   ]
  },
  {
   "cell_type": "code",
   "execution_count": 158,
   "id": "e3d87f11",
   "metadata": {},
   "outputs": [],
   "source": [
    "#EIG1[1][2][0][0]"
   ]
  },
  {
   "cell_type": "code",
   "execution_count": 157,
   "id": "d119242e",
   "metadata": {},
   "outputs": [],
   "source": [
    "#EIG2[2][2][0][1]"
   ]
  },
  {
   "cell_type": "code",
   "execution_count": 159,
   "id": "6bb708c3",
   "metadata": {},
   "outputs": [],
   "source": [
    "#simplify(EIG1[0][2][0])"
   ]
  },
  {
   "cell_type": "code",
   "execution_count": 160,
   "id": "010de04f",
   "metadata": {},
   "outputs": [],
   "source": [
    "#f=eigval1[2]+ 2/3*(c)*I\n"
   ]
  }
 ],
 "metadata": {
  "kernelspec": {
   "display_name": "Python 3",
   "language": "python",
   "name": "python3"
  },
  "language_info": {
   "codemirror_mode": {
    "name": "ipython",
    "version": 3
   },
   "file_extension": ".py",
   "mimetype": "text/x-python",
   "name": "python",
   "nbconvert_exporter": "python",
   "pygments_lexer": "ipython3",
   "version": "3.9.10"
  }
 },
 "nbformat": 4,
 "nbformat_minor": 5
}
